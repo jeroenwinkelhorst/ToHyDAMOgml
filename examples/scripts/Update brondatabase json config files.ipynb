{
 "cells": [
  {
   "cell_type": "markdown",
   "metadata": {},
   "source": [
    "# Verander brondatabase in set JSON bestanden"
   ]
  },
  {
   "cell_type": "code",
   "execution_count": 10,
   "metadata": {},
   "outputs": [],
   "source": [
    "import os\n",
    "import json"
   ]
  },
  {
   "cell_type": "markdown",
   "metadata": {},
   "source": [
    "Met dit script kan de brondatabase van meerdere json bestanden worden geupdate. De bestanden worden overschreven."
   ]
  },
  {
   "cell_type": "code",
   "execution_count": 15,
   "metadata": {},
   "outputs": [],
   "source": [
    "# path to the json files\n",
    "path_json = r\"c:\\Users\\905872\\Documents\\Gitlab\\BG7587_HyDAMO_GML\\examples\\wvv\\json\"\n",
    "\n",
    "# object that will be updated\n",
    "json_objects = [\n",
    "    os.path.join(path_json, \"hydroobject.json\"),\n",
    "    os.path.join(path_json, \"stuw.json\"),\n",
    "    os.path.join(path_json, \"duikersifonhevel.json\"),\n",
    "#     os.path.join(path_json, \"afsluitmiddel.json\"),\n",
    "#     os.path.join(path_json, \"brug.json\"),\n",
    "#     os.path.join(path_json, \"brug_dwp.json\"),\n",
    "#     os.path.join(path_json, \"gemaal.json\"),\n",
    "#     os.path.join(path_json, \"pomp.json\"),\n",
    "    \n",
    "#     # dwarsprofiel heeft andere brondata\n",
    "#     os.path.join(path_json, \"dwarsprofiel.json\"),\n",
    "    ]"
   ]
  },
  {
   "cell_type": "markdown",
   "metadata": {},
   "source": [
    "In de onderstaande loop wordt de bron database geupdate. Het JSON bestand wordt overschreven."
   ]
  },
  {
   "cell_type": "code",
   "execution_count": 16,
   "metadata": {},
   "outputs": [
    {
     "name": "stdout",
     "output_type": "stream",
     "text": [
      "c:\\Users\\905872\\Documents\\Gitlab\\BG7587_HyDAMO_GML\\examples\\wvv\\json\\gemaal.json\n",
      "c:\\Users\\905872\\Documents\\Gitlab\\BG7587_HyDAMO_GML\\examples\\wvv\\json\\pomp.json\n"
     ]
    }
   ],
   "source": [
    "for obj in json_objects:\n",
    "    with open(obj, 'r+') as f:\n",
    "        print(obj)\n",
    "        data = json.load(f)\n",
    "        # values to update:\n",
    "        data['source']['path'] = r\"c:\\Users\\905872\\Documents\\Gitlab\\BG7587_HyDAMO_GML\\examples\\wvv\\gdb\\Breg_Hydamo.gdb\" # <--- add `id` value.\n",
    "        \n",
    "        f.seek(0)        # <--- should reset file position to the beginning.\n",
    "        json.dump(data, f, indent=4)\n",
    "        f.truncate()     # remove remaining part"
   ]
  },
  {
   "cell_type": "code",
   "execution_count": null,
   "metadata": {},
   "outputs": [],
   "source": []
  }
 ],
 "metadata": {
  "kernelspec": {
   "display_name": "Python 3",
   "language": "python",
   "name": "python3"
  },
  "language_info": {
   "codemirror_mode": {
    "name": "ipython",
    "version": 3
   },
   "file_extension": ".py",
   "mimetype": "text/x-python",
   "name": "python",
   "nbconvert_exporter": "python",
   "pygments_lexer": "ipython3",
   "version": "3.6.6"
  }
 },
 "nbformat": 4,
 "nbformat_minor": 2
}
