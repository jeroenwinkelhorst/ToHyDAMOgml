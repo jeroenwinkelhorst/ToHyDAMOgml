{
 "cells": [
  {
   "cell_type": "markdown",
   "metadata": {},
   "source": [
    "# Tutorial ToHyDAMOgml\n",
    "\n",
    "2 juni 2020, Jeroen Winkelhorst, Royal HaskoningDHV\n",
    "\n",
    "In deze notebook staat een voorbeeld uitgewerkt voor de aanmaken van een HyDAMO GML bestand. Dit voorbeeld is uitgewerkt voor drie DAMO objecten, namelijk `Hydroobject`, `DuikerSifonHevel` en `Stuw`. De benodigde bronbestanden zijn bijgevoegd in de map `examples/gdb`.\n",
    "\n",
    "Meer informatie over het HyDAMO datamodel vind je hier: http://www.nhi.nu/nl/index.php/uitvoering/module-oppervlaktewater/ \n",
    "\n",
    "\n",
    "Ben je niet bekend met Jupyter Notebooks? Lees dan deze korte introductie (engels): https://nbviewer.jupyter.org/github/jupyter/notebook/blob/master/docs/source/examples/Notebook/Notebook%20Basics.ipynb\n",
    "\n",
    "De installatie van de ToHyDAMOgml tool staat toegelicht in de Readme van deze package."
   ]
  },
  {
   "cell_type": "markdown",
   "metadata": {},
   "source": [
    "### Inladen functies"
   ]
  },
  {
   "cell_type": "markdown",
   "metadata": {},
   "source": [
    "Als eerste wordt de map waarin de `hydamo_gml` package staat toegevoegd aan het `systeem path`. Vervolgens worden de benodigde dependencies ingeladen. "
   ]
  },
  {
   "cell_type": "code",
   "execution_count": null,
   "metadata": {},
   "outputs": [],
   "source": [
    "import sys\n",
    "# Tussen de r'' staat de verwijzing naar de map van `hydamo_gml`. Voor dit voorbeeld staat de relatieve verwijzing goed ingesteld.\n",
    "# sys.path.append(r'../..')\n",
    "\n",
    "# Deze map 'hydamo_gml' map bevat tenminste de volgende submappen:\n",
    "# - `examples\\`\n",
    "# - `hydamo_gml\\`\n",
    "# - `scripts\\`\n",
    "# - `src\\`\n",
    "\n",
    "# Importeer de benodigde packages\n",
    "import os\n",
    "from tohydamogml.hydamo_table import HydamoObject\n",
    "\n",
    "%matplotlib notebook"
   ]
  },
  {
   "cell_type": "markdown",
   "metadata": {},
   "source": [
    "### Hydro object\n",
    "Als eerste gaan we het object Hydro object (watergangen) omzetten naar een GML bestand. Daarvoor doorlopen we de volgende stappen:\n",
    "1. Inladen configuratiebestand hydroobject.json\n",
    "2. Aanmaken Python HydamoObject. In dit object is de GML code opgebouwd.\n",
    "3. Uitvoeren validatie van de GML code\n",
    "4. wegschrijven van de GML code naar een GML bestand\n",
    "\n",
    "#### Configuratie bestanden\n",
    "In de configuratie bestanden staat per HyDAMO object gedefinieerd hoe het object is opgebouwd. De configuratie is vastgelegd in JSON bestanden die een vergelijkbare opbouw hebben als Python dictionaries. De opbouw van de JSON bestanden is toegelicht in een notitie die te vinden is in de map `docs`.\n",
    "\n",
    "In dit voorbeeld gaan we als eerste de watergangen omzetten. Daarvoor hebben we het json bestand van `HydroObject` nodig. "
   ]
  },
  {
   "cell_type": "code",
   "execution_count": null,
   "metadata": {},
   "outputs": [],
   "source": [
    "json_hydroobject = r\"json/hydroobject.json\""
   ]
  },
  {
   "cell_type": "markdown",
   "metadata": {},
   "source": [
    "Neem eens een kijkje in dit json bestand. Dat bestand kun je openen met een text editor zoals `notepad`. In dit bestand staat alle informatie die nodig is een HyDAMO object aan te maken. Het is belangrijk dat de verwijzing naar de brondatabase (beheerregister) goed staat in het JSON bestand. "
   ]
  },
  {
   "cell_type": "markdown",
   "metadata": {},
   "source": [
    "#### Aanmaken HyDAMO object\n",
    "Voor dit voorbeeld staan de brongegevens goed, dus we laden het hydroobject in. Hiervoor is een internetverbinding noodzakelijk omdat gml protocollen van internet worden gehaald. \n",
    "\n",
    "Het is mogelijk om het via het attribuut `mask` een polygon mee te geven om de uitvoer te beperken tot een bepaald gebied. Dit is optioneel.\n",
    "\n",
    "(het is mogelijk dat je een foutmelding krijgt over een 'data rate limit'. Restart dan deze notebook van de python prompt met het volgende commando: `jupyter notebook --NotebookApp.iopub_data_rate_limit=1e10`)"
   ]
  },
  {
   "cell_type": "code",
   "execution_count": null,
   "metadata": {},
   "outputs": [],
   "source": [
    "gebied = r\"shp/OW.shp\"\n",
    "obj = HydamoObject(json_hydroobject, mask=gebied)"
   ]
  },
  {
   "cell_type": "markdown",
   "metadata": {},
   "source": [
    "De GML output is na het aanmaken weergegeven maar nog niet weggeschreven naar een bestand. \n",
    "\n",
    "De informatie is in tabelform in te zien via het commanda `obj.gdf`. "
   ]
  },
  {
   "cell_type": "code",
   "execution_count": null,
   "metadata": {},
   "outputs": [],
   "source": [
    "obj.gdf"
   ]
  },
  {
   "cell_type": "markdown",
   "metadata": {},
   "source": [
    "De geometrie kan eenvoudig geplot worden met het commando `obj.gdf.plot()` "
   ]
  },
  {
   "cell_type": "code",
   "execution_count": null,
   "metadata": {},
   "outputs": [],
   "source": [
    "obj.gdf.plot()"
   ]
  },
  {
   "cell_type": "markdown",
   "metadata": {},
   "source": [
    "#### Validatie HyDAMO object\n",
    "Het is mogelijk om de gml output te valideren met behulp van bijgeleverde XSD bestanden. Het is daarbij mogelijk om de validatie fouten weg te schrijven naar een shape."
   ]
  },
  {
   "cell_type": "code",
   "execution_count": null,
   "metadata": {},
   "outputs": [],
   "source": [
    "obj.validate_gml(write_error_log=True)"
   ]
  },
  {
   "cell_type": "markdown",
   "metadata": {},
   "source": [
    "Als de validatie fouten bevat zijn deze weggeschreven naar een logbestand in de map `wvv_notebook/log`. De log bestaat uit een shape of csv bestand. Zoek dit bestand eens op en bekijk de inhoud.\n",
    "\n",
    "Het XSD bestand dat wordt gebruikt voor validatie staat in de map `src/xsd`. Als er een nieuwere versie beschikbaar is op `https://github.com/erikderooij/nhi/tree/master/schema` kunnen de bestanden in deze map worden overschreven."
   ]
  },
  {
   "cell_type": "markdown",
   "metadata": {},
   "source": [
    "#### Exporteren gml naar bestand\n",
    "Na de validatie exporteren we de gml naar een bestand. De `write_gml` functie voert automatisch een validatie uit. Als je de validatie al hebt uitgevoerd (zoals we net gedaan hebben in de vorige stap) kun je de validatie overslaan met de optie `skip_validation=True`. Als er validatie errors in het het object zitten wordt is de standaard instelling dat er geen output wordt weggeschreven. Wil je dit toch, gebruik dan de optie `ignore_errors=True`.\n",
    "\n",
    "We schrijven het gml bestand weg naar de map 'output' en negeren de validatie errors:"
   ]
  },
  {
   "cell_type": "code",
   "execution_count": null,
   "metadata": {},
   "outputs": [],
   "source": [
    "if not os.path.exists('output'):\n",
    "    os.mkdir('output')\n",
    "obj.write_gml(r\"output\", ignore_errors=True, skip_validation=True)"
   ]
  },
  {
   "cell_type": "markdown",
   "metadata": {},
   "source": [
    "### Object stuw\n",
    "Het object stuw verschilt van HydroObject omdat bij dit object in de JSON configuratie wordt verwezen naar attribuutspecifieke functies. De locatie van de functies moet in aanvulling op de json locatie worden ingeladen. In het volgende voorbeeld wordt het object stuw weggeschreven naar een gml bestand."
   ]
  },
  {
   "cell_type": "code",
   "execution_count": null,
   "metadata": {},
   "outputs": [],
   "source": [
    "json_stuw = r\"json/stuw.json\"\n",
    "attr_function = r\"json/attribute_functions.py\"\n",
    "obj_stuw = HydamoObject(json_stuw, file_attribute_functions=attr_function)\n",
    "obj_stuw.write_gml(r\"output\", ignore_errors=True, skip_validation=False)"
   ]
  },
  {
   "cell_type": "markdown",
   "metadata": {},
   "source": [
    "### Opdrachten\n",
    "\n",
    "In deze opdracht ga je als eerste het DuikerSifonHevel object exporteren naar GML. Vervolgens ga je de JSON aanpassen zodat je een extra kolom exporteert.\n",
    "\n",
    "1. Open de JSON van het DuikerSifonHevel object (`examples\\wvv_notebook\\json\\duikersifonhevel.json`) en probeer de opbouw te begrijpen. De documentatie in de map `docs` kan hierbij helpen.\n",
    "2. Open de gis laag `duikersifonhevel` uit het beheerregister (`examples\\wvv_notebook\\gdb\\Breg_Hydamo.gdb`) en bekijk hoe de JSON verwijst naar de kolommen in het beheerregister\n",
    "3. Laad het object DuikerSifonHevel in voor het gebied oosterwolde ( `shp/clip_oosterwolde.shp`) en plot de duikers. "
   ]
  },
  {
   "cell_type": "code",
   "execution_count": null,
   "metadata": {},
   "outputs": [],
   "source": [
    "gebied = r\"shp/OW.shp\"\n",
    "json_duiker = r\"json/duikersifonhevel.json\"\n",
    "attr_function = r\"json/attribute_functions.py\"\n",
    "obj_duiker = HydamoObject(json_duiker, file_attribute_functions=attr_function, mask=gebied)\n",
    "#obj_duiker.write_gml(r\"output\", ignore_errors=True, skip_validation=False)"
   ]
  },
  {
   "cell_type": "code",
   "execution_count": null,
   "metadata": {},
   "outputs": [],
   "source": [
    "obj_duiker.gdf.plot()"
   ]
  },
  {
   "cell_type": "markdown",
   "metadata": {},
   "source": [
    "4. In het voorbeeld zijn de duikers gefilterd. Op welk attribuut is het object gefilterd en wat betekent dit voor de resultaten?\n",
    "<br>\n",
    "\n",
    "Hint:\n",
    "- 1\tplanvorming\n",
    "- 2\trealisatie\n",
    "- 3\tgerealiseerd\n",
    "- 4\tbuiten bedrijf\n",
    "- 5\tniet meer aanwezig\n",
    "- 7\tte verwijderen\n",
    "- 99\tonbekend\n",
    "\n"
   ]
  },
  {
   "cell_type": "markdown",
   "metadata": {},
   "source": [
    "`\n",
    " \"filter\": {\n",
    "            \"STATUSOBJECT\": [\n",
    "                3\n",
    "            ]\n",
    "`\n",
    "\n",
    "Het object is gefilterd op de statusobjectcode. Dit betekent alleen de gerealiseerde duikers zijn opgenomen in het object"
   ]
  },
  {
   "cell_type": "markdown",
   "metadata": {},
   "source": [
    "5. Maak een kopie van de JSON en filter hierin de duikers op 'niet meer aanwezig' en 'te verwijderen'. Plot het resultaat. "
   ]
  },
  {
   "cell_type": "code",
   "execution_count": null,
   "metadata": {},
   "outputs": [],
   "source": [
    "json_vraag5 = r\"json/duikersifonhevel_antwoord_vraag_5.json\"\n",
    "obj_duiker = HydamoObject(json_vraag5, file_attribute_functions=attr_function, mask=gebied)\n",
    "obj_duiker.gdf.plot()"
   ]
  },
  {
   "cell_type": "markdown",
   "metadata": {},
   "source": [
    "6. Achterhaal hoe de kolom ruwheidswaarde in het JSON bestand wordt afgeleid. \n",
    "    - Wat is de kolom uit het beheerregister waar naar wordt verwezen? \n",
    "    - Welk type output zie je terug in de GML? \n",
    "    - Hoe is de data omgezet?\n",
    "\n",
    "Hint: kijk in attribute_functions.py"
   ]
  },
  {
   "cell_type": "markdown",
   "metadata": {},
   "source": [
    "- In de functie `obj_soortmateriaal` wordt verwezen naar de kolom SOORTMATERIAAL. In de kolom staat een materiaalnaam.\n",
    "- In de output zijn de ruwheidswaarden getallen (integers)\n",
    "- De data is omgezet in via de functie `obj_soortmateriaal`. Zie de toelichting hieronder.\n",
    "\n",
    "\n",
    "In het JSON bestand wordt verwezen naar een functie uit `attribute functions.py`, namelijk `obj_soortmateriaal`:\n",
    "`\n",
    "        {\n",
    "            \"name\": \"ruwheidswaarde\",\n",
    "            \"type\": \"Double\",\n",
    "            \"required\": true,\n",
    "            \"src_col\": \"\",\n",
    "            \"func\": \"obj_soortmateriaal\",\n",
    "            \"default\": 999\n",
    "        },\n",
    "`\n",
    "\n",
    "Als we in `attribute functions.py` kijken zien we de volgende functie definitie:\n",
    "\n",
    "`\n",
    "def obj_soortmateriaal(damo_gdf=None, obj=None, damo_soortmateriaal=\"SOORTMATERIAAL\"):\n",
    "    return damo_gdf.apply(lambda x: _obj_get_soortmateriaal(x[damo_soortmateriaal]), axis=1)\n",
    "`\n",
    "\n",
    "De functie obj_soortmateriaal heeft als input de gefilterde duikersifonhevel laag uit DAMO (in de functie is dit `damo_gdf`). Via een `damo_gdf.apply` functie wordt per rij de functie `_obj_get_soortmateriaal` toegepast. \n",
    "\n",
    "De functie `_obj_get_soortmateriaal` heeft de kolom `SOORTMATERIAAL` uit het duikersifonhevel object als input en geeft voor een materiaalnaam (input) een ruwheidswaarde terug. Bijvoorbeeld voor het materiaal beton wordt een ruwheidswaarde van 75 teruggegeven.\n",
    "\n",
    "Dus voor elke rij is op basis van de kolom “SOORTMATERIAAL” een ruwheidswaarde bepaald. \n",
    "\n",
    "`\n",
    "def _obj_get_soortmateriaal(materiaalcode):\n",
    "    \"\"\"Return Strickler Ks waarde\n",
    "    Bron: Ven te Chow - Open channel hydraulics tbl 5-6\n",
    "    TODO: omschrijven naar dictionary in config\"\"\"\n",
    "    if materiaalcode in MATERIAALKUNSTWERK.keys():\n",
    "        if MATERIAALKUNSTWERK[materiaalcode] == \"beton\":\n",
    "            return 75\n",
    "        if MATERIAALKUNSTWERK[materiaalcode] == \"gewapend beton\":\n",
    "            return 75\n",
    "        if MATERIAALKUNSTWERK[materiaalcode] == \"metselwerk\":\n",
    "            return 65\n",
    "        if MATERIAALKUNSTWERK[materiaalcode] == \"metaal\":\n",
    "            return 80\n",
    "        if MATERIAALKUNSTWERK[materiaalcode] == \"aluminium\":\n",
    "            return 80\n",
    "        if MATERIAALKUNSTWERK[materiaalcode] == \"ijzer\":\n",
    "            return 80\n",
    "        if MATERIAALKUNSTWERK[materiaalcode] == \"gietijzer\":\n",
    "            return 75\n",
    "        if MATERIAALKUNSTWERK[materiaalcode] == \"PVC\":\n",
    "            return 80\n",
    "        if MATERIAALKUNSTWERK[materiaalcode] == \"gegolfd plaatstaal\":\n",
    "            return 65\n",
    "        if MATERIAALKUNSTWERK[materiaalcode] == \"asbestcement\":\n",
    "            return 110\n",
    "    return 999\n",
    "`\n",
    "\n",
    "\n",
    "\n"
   ]
  },
  {
   "cell_type": "markdown",
   "metadata": {},
   "source": [
    "7. We gaan nu een extra kolom aan het duikersifonhevel object toevoegen, de kolom kolom `opmerking` (`OPMERKING`). \n",
    "    - Maak een kopie van het originele JSON bestand\n",
    "    - voeg de extra kolom `opmerking` (`OPMERKING`) toe\n",
    "    - kies als default waarde \"Geen opmerking\" en \"required\": false\n",
    "    - maak een hydamo object aan en bekijk de tabeloutput\n",
    "    - zie je de default waarde terug? pas de JSON aan en zet \"required\": true. Wat zie je nu in de tabeloutput?\n",
    "\n",
    "hint: Het type is \"String\""
   ]
  },
  {
   "cell_type": "markdown",
   "metadata": {},
   "source": [
    "Als required op `false` staat wordt de default waarde niet opgenomen bij missende input. Als required op `true` staat wel."
   ]
  },
  {
   "cell_type": "code",
   "execution_count": null,
   "metadata": {},
   "outputs": [],
   "source": [
    "json_vraag7 = r\"json/duikersifonhevel_antwoord_vraag_7.json\"\n",
    "obj_duiker = HydamoObject(json_vraag7, file_attribute_functions=attr_function, mask=gebied)\n",
    "obj_duiker.gdf"
   ]
  },
  {
   "cell_type": "markdown",
   "metadata": {},
   "source": [
    "8. Exporteer het aangepaste duikersifonhevel object naar gml"
   ]
  },
  {
   "cell_type": "markdown",
   "metadata": {},
   "source": [
    "via het attribuut `suffix=\"tekst\"` kun je de naam het export bestand veranderen zodat wordt voorkomen dat een bestand met dezelfde naam wordt overschreven."
   ]
  },
  {
   "cell_type": "code",
   "execution_count": null,
   "metadata": {},
   "outputs": [],
   "source": [
    "obj_duiker.write_gml(r\"output\", ignore_errors=True, skip_validation=False, suffix=\"_vraag7\")"
   ]
  },
  {
   "cell_type": "markdown",
   "metadata": {},
   "source": [
    "<b>Dit is het einde van de tutorial. Je hebt nu de meest belangrijke stappen doorlopen om te begrijpen hoe de tool functioneert en hoe je informatie aanpast. Succes!</b>"
   ]
  }
 ],
 "metadata": {
  "kernelspec": {
   "display_name": "Python 3",
   "language": "python",
   "name": "python3"
  },
  "language_info": {
   "codemirror_mode": {
    "name": "ipython",
    "version": 3
   },
   "file_extension": ".py",
   "mimetype": "text/x-python",
   "name": "python",
   "nbconvert_exporter": "python",
   "pygments_lexer": "ipython3",
   "version": "3.8.8"
  }
 },
 "nbformat": 4,
 "nbformat_minor": 4
}
